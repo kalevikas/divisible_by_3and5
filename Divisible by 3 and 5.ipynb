{
 "cells": [
  {
   "cell_type": "code",
   "execution_count": 9,
   "id": "755fb587",
   "metadata": {},
   "outputs": [
    {
     "name": "stdout",
     "output_type": "stream",
     "text": [
      "Enter a number: 10\n",
      "[0]\n",
      "[0]\n"
     ]
    }
   ],
   "source": [
    "def divi():\n",
    "    \n",
    "    global res\n",
    "    res=[]\n",
    "    for i in range(num):\n",
    "        if i%3==0 and i%5==0:\n",
    "            res.append(i)\n",
    "        return res\n",
    "num=int(input(\"Enter a number: \"))\n",
    "print(divi())\n",
    "print(res)\n",
    "            "
   ]
  },
  {
   "cell_type": "code",
   "execution_count": 29,
   "id": "3220cffc",
   "metadata": {},
   "outputs": [
    {
     "name": "stdout",
     "output_type": "stream",
     "text": [
      "enter a number: 50\n",
      "[0, 15, 30, 45]\n"
     ]
    }
   ],
   "source": [
    "num=int(input(\"enter a number: \"))  # we enter 50 so 0 to 9\n",
    "def divi_by_3and5(num):       # define variable for 1 argument num.\n",
    "    result=[]               # make empty list \n",
    "    for i  in range(num):    # i=0,1,2,3,4,5,6,7,8,9\n",
    "        if i%3==0 and i%5==0: # if when i numbers is divi by 3 & 5 and reminder will be 0 then only this condition will be true.\n",
    "            result.append(i)   # if condition true then append the numbers which is divi by 3 and 5 in result list.\n",
    "    return result  \n",
    "            \n",
    "x=divi_by_3and5(num)\n",
    "print(x)"
   ]
  },
  {
   "cell_type": "code",
   "execution_count": 24,
   "id": "934c9ef3",
   "metadata": {},
   "outputs": [
    {
     "name": "stdout",
     "output_type": "stream",
     "text": [
      "Enter your number: 100\n",
      "[0, 15, 30, 45, 60, 75, 90]\n"
     ]
    }
   ],
   "source": [
    "def divisible_by_3and5():\n",
    "    result = [ ]\n",
    "    for i in range(num):\n",
    "        if i%3 == 0 and i%5 == 0:\n",
    "            result.append(i)\n",
    "    return result\n",
    " \n",
    "num = int (input('Enter your number: '))\n",
    "result = divisible_by_3and5()\n",
    "print(result)"
   ]
  },
  {
   "cell_type": "code",
   "execution_count": 25,
   "id": "9f8cd56d",
   "metadata": {},
   "outputs": [
    {
     "name": "stdout",
     "output_type": "stream",
     "text": [
      "3\n",
      "6\n",
      "9\n",
      "12\n",
      "15\n",
      "18\n"
     ]
    }
   ],
   "source": [
    "for i in range(1,20):\n",
    "    if i%3==0:\n",
    "        print(i)"
   ]
  },
  {
   "cell_type": "code",
   "execution_count": 30,
   "id": "de4bc8e8",
   "metadata": {},
   "outputs": [
    {
     "name": "stdout",
     "output_type": "stream",
     "text": [
      "5\n",
      "10\n",
      "15\n"
     ]
    }
   ],
   "source": [
    "for i in range(1,20):\n",
    "    if i%5==0:\n",
    "        print(i)"
   ]
  },
  {
   "cell_type": "code",
   "execution_count": 31,
   "id": "41d0b3ab",
   "metadata": {},
   "outputs": [
    {
     "name": "stdout",
     "output_type": "stream",
     "text": [
      "enter a number: 20\n",
      "[0, 15]\n"
     ]
    }
   ],
   "source": [
    "num=int(input(\"enter a number: \"))  # we enter 50 so 0 to 9\n",
    "def divi_by_3and5(num):       # define variable for 1 argument num.\n",
    "    result=[]               # make empty list \n",
    "    for i  in range(num):    # i=0,1,2,3,4,5,6,7,8,9\n",
    "        if i%3==0 and i%5==0: # if when i numbers is divi by 3 & 5 and reminder will be 0 then only this condition will be true.\n",
    "            result.append(i)   # if condition true then append the numbers which is divi by 3 and 5 in result list.\n",
    "    return result  \n",
    "            \n",
    "x=divi_by_3and5(num)\n",
    "print(x)"
   ]
  },
  {
   "cell_type": "code",
   "execution_count": 38,
   "id": "089bd25d",
   "metadata": {},
   "outputs": [],
   "source": [
    "def add(n1,n2):\n",
    "    return n1+n2\n",
    "\n",
    "def mul(m1,m2):\n",
    "    return m1*m2\n",
    "\n",
    "\n",
    "    "
   ]
  },
  {
   "cell_type": "code",
   "execution_count": 39,
   "id": "5dc5c55f",
   "metadata": {},
   "outputs": [
    {
     "data": {
      "text/plain": [
       "9"
      ]
     },
     "execution_count": 39,
     "metadata": {},
     "output_type": "execute_result"
    }
   ],
   "source": [
    "add(5,4)"
   ]
  },
  {
   "cell_type": "code",
   "execution_count": 40,
   "id": "f30f8852",
   "metadata": {},
   "outputs": [
    {
     "data": {
      "text/plain": [
       "20"
      ]
     },
     "execution_count": 40,
     "metadata": {},
     "output_type": "execute_result"
    }
   ],
   "source": [
    "mul(5,4)"
   ]
  },
  {
   "cell_type": "code",
   "execution_count": null,
   "id": "9328d90b",
   "metadata": {},
   "outputs": [],
   "source": []
  }
 ],
 "metadata": {
  "kernelspec": {
   "display_name": "Python 3",
   "language": "python",
   "name": "python3"
  },
  "language_info": {
   "codemirror_mode": {
    "name": "ipython",
    "version": 3
   },
   "file_extension": ".py",
   "mimetype": "text/x-python",
   "name": "python",
   "nbconvert_exporter": "python",
   "pygments_lexer": "ipython3",
   "version": "3.8.8"
  }
 },
 "nbformat": 4,
 "nbformat_minor": 5
}
